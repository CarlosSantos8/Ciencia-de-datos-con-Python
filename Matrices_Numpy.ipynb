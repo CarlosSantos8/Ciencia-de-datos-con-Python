{
 "cells": [
  {
   "cell_type": "markdown",
   "id": "8472accb",
   "metadata": {},
   "source": [
    "# NUMPY\n",
    "\n",
    "El almacenamiento y la manipulación eficientes de matrices numéricas es absolutamente fundamental para el proceso de hacer ciencia de datos.\n",
    "\n",
    "La ciencia y la computación basadas en datos eficaces requieren comprender cómo se almacenan y manipulan los datos. Esta sección describe y contrasta cómo se manejan las matrices de datos en el propio lenguaje Python y cómo NumPy mejora esto.\n",
    "\n",
    "Podemos crear una <a style=\"color:red;\"> <b> lista de números enteros </b> </a> de la siguiente manera:"
   ]
  },
  {
   "cell_type": "code",
   "execution_count": 1,
   "id": "90aba3a7",
   "metadata": {},
   "outputs": [
    {
     "data": {
      "text/plain": [
       "[0, 1, 2, 3, 4]"
      ]
     },
     "execution_count": 1,
     "metadata": {},
     "output_type": "execute_result"
    }
   ],
   "source": [
    "L = list(range(5))\n",
    "L"
   ]
  },
  {
   "cell_type": "code",
   "execution_count": 2,
   "id": "ce8b31cf",
   "metadata": {},
   "outputs": [
    {
     "data": {
      "text/plain": [
       "int"
      ]
     },
     "execution_count": 2,
     "metadata": {},
     "output_type": "execute_result"
    }
   ],
   "source": [
    "type(L[0])"
   ]
  },
  {
   "cell_type": "markdown",
   "id": "413bafed",
   "metadata": {},
   "source": [
    "O, de manera similar, una <a style=\"color:red;\"> <b> lista de cadenas. </b> </a>:"
   ]
  },
  {
   "cell_type": "code",
   "execution_count": 3,
   "id": "6a2fa5bb",
   "metadata": {},
   "outputs": [
    {
     "data": {
      "text/plain": [
       "['0', '1', '2', '3', '4']"
      ]
     },
     "execution_count": 3,
     "metadata": {},
     "output_type": "execute_result"
    }
   ],
   "source": [
    "L2 = [str(c) for c in L]\n",
    "L2"
   ]
  },
  {
   "cell_type": "code",
   "execution_count": 4,
   "id": "5eb7897d",
   "metadata": {},
   "outputs": [
    {
     "data": {
      "text/plain": [
       "str"
      ]
     },
     "execution_count": 4,
     "metadata": {},
     "output_type": "execute_result"
    }
   ],
   "source": [
    "type(L2[0])"
   ]
  },
  {
   "cell_type": "markdown",
   "id": "80965a32",
   "metadata": {},
   "source": [
    "Gracias a la tipificación dinámica de Python, podemos incluso crear <a style=\"color:red;\"> <b> listas heterogéneas: </b> </a>"
   ]
  },
  {
   "cell_type": "code",
   "execution_count": 5,
   "id": "a0f6384c",
   "metadata": {},
   "outputs": [
    {
     "data": {
      "text/plain": [
       "[bool, str, float, int]"
      ]
     },
     "execution_count": 5,
     "metadata": {},
     "output_type": "execute_result"
    }
   ],
   "source": [
    "L3 = [True, \"2\", 3.0, 4]\n",
    "[type(item) for item in L3]"
   ]
  },
  {
   "cell_type": "markdown",
   "id": "095a3726",
   "metadata": {},
   "source": [
    "# <a style=\"color:blue;\"> <b> Crear matrices a partir de listas de Python </b> </a>"
   ]
  },
  {
   "cell_type": "code",
   "execution_count": 9,
   "id": "e7cc9b4a",
   "metadata": {},
   "outputs": [
    {
     "data": {
      "text/plain": [
       "array([1, 4, 2, 5, 3])"
      ]
     },
     "execution_count": 9,
     "metadata": {},
     "output_type": "execute_result"
    }
   ],
   "source": [
    "import numpy as np\n",
    "# integer array:\n",
    "np.array([1, 4, 2, 5, 3])"
   ]
  },
  {
   "cell_type": "markdown",
   "id": "63c57f4a",
   "metadata": {},
   "source": [
    "podemos usar <a style=\"color:red;\"> <b> np.array </b> </a> para crear matrices a partir de listas de Python. <a style=\"color:black;\"> <b> NumPy está restringido a matrices que contienen todas el mismo tipo. </b> </a>.Si los tipos no coinciden, NumPy realizará una conversión ascendente si es posible"
   ]
  },
  {
   "cell_type": "code",
   "execution_count": 10,
   "id": "c7f4631f",
   "metadata": {},
   "outputs": [
    {
     "data": {
      "text/plain": [
       "array([3.14, 4.  , 2.  , 3.  ])"
      ]
     },
     "execution_count": 10,
     "metadata": {},
     "output_type": "execute_result"
    }
   ],
   "source": [
    "np.array([3.14, 4, 2, 3])"
   ]
  },
  {
   "cell_type": "markdown",
   "id": "8897ae0b",
   "metadata": {},
   "source": [
    "Si queremos establecer explícitamente el tipo de datos de la matriz resultante, podemos usar la palabra clave <a style=\"color:red;\"> <b> dtype </b> </a>"
   ]
  },
  {
   "cell_type": "code",
   "execution_count": 11,
   "id": "5a8c280a",
   "metadata": {},
   "outputs": [
    {
     "data": {
      "text/plain": [
       "array([1., 2., 3., 4.], dtype=float32)"
      ]
     },
     "execution_count": 11,
     "metadata": {},
     "output_type": "execute_result"
    }
   ],
   "source": [
    "np.array([1, 2, 3, 4], dtype='float32')"
   ]
  },
  {
   "cell_type": "markdown",
   "id": "f09cef91",
   "metadata": {},
   "source": [
    "<a style=\"color:black;\"> <b> <a style=\"color:black;\"> <b> NumPy está restringido a matrices que contienen todas el mismo tipo. </b> </a> </b> </a> Aquí hay una forma de inicializar una matriz multidimensional usando una lista de listas:"
   ]
  },
  {
   "cell_type": "code",
   "execution_count": 13,
   "id": "6d4bec78",
   "metadata": {},
   "outputs": [
    {
     "data": {
      "text/plain": [
       "array([[ 2,  3,  4,  5,  6],\n",
       "       [ 3,  4,  5,  6,  7],\n",
       "       [ 4,  5,  6,  7,  8],\n",
       "       [ 6,  7,  8,  9, 10]])"
      ]
     },
     "execution_count": 13,
     "metadata": {},
     "output_type": "execute_result"
    }
   ],
   "source": [
    "np.array([range(i, i + 5) for i in [2, 3, 4, 6]])"
   ]
  },
  {
   "cell_type": "markdown",
   "id": "80b274e8",
   "metadata": {},
   "source": [
    "Las listas internas se tratan como filas de la matriz bidimensional resultante."
   ]
  },
  {
   "cell_type": "markdown",
   "id": "690776d8",
   "metadata": {},
   "source": [
    "# <a style=\"color:blue;\"> <b> Creando matrices desde cero </b> </a>\n",
    "\n",
    "Especialmente para matrices más grandes, es más eficiente crear matrices desde cero utilizando rutinas integradas en NumPy. A continuación se muestran varios ejemplos:"
   ]
  },
  {
   "cell_type": "code",
   "execution_count": 15,
   "id": "f4860c1d",
   "metadata": {},
   "outputs": [
    {
     "data": {
      "text/plain": [
       "array([0, 0, 0, 0, 0])"
      ]
     },
     "execution_count": 15,
     "metadata": {},
     "output_type": "execute_result"
    }
   ],
   "source": [
    "np.zeros(5, dtype=int) #Crea una matriz de enteros de longitud 5 llena de ceros"
   ]
  },
  {
   "cell_type": "code",
   "execution_count": 17,
   "id": "afeeadb8",
   "metadata": {},
   "outputs": [
    {
     "data": {
      "text/plain": [
       "array([[1., 1., 1.],\n",
       "       [1., 1., 1.]])"
      ]
     },
     "execution_count": 17,
     "metadata": {},
     "output_type": "execute_result"
    }
   ],
   "source": [
    "np.ones((2, 3), dtype=float) #Crea una matriz de punto flotante de 2x3 llena de unos"
   ]
  },
  {
   "cell_type": "code",
   "execution_count": 19,
   "id": "85fda131",
   "metadata": {},
   "outputs": [
    {
     "data": {
      "text/plain": [
       "array([[3.141621, 3.141621, 3.141621, 3.141621],\n",
       "       [3.141621, 3.141621, 3.141621, 3.141621],\n",
       "       [3.141621, 3.141621, 3.141621, 3.141621],\n",
       "       [3.141621, 3.141621, 3.141621, 3.141621]])"
      ]
     },
     "execution_count": 19,
     "metadata": {},
     "output_type": "execute_result"
    }
   ],
   "source": [
    "np.full((4, 4), 3.141621) #Crea una matriz de 4x4 llena de 3.141621"
   ]
  },
  {
   "cell_type": "code",
   "execution_count": 21,
   "id": "2b710999",
   "metadata": {},
   "outputs": [
    {
     "data": {
      "text/plain": [
       "array([ 0,  3,  6,  9, 12, 15, 18])"
      ]
     },
     "execution_count": 21,
     "metadata": {},
     "output_type": "execute_result"
    }
   ],
   "source": [
    "np.arange(0, 20, 3) # Crea una matriz llena con una secuencia lineal Comenzando en 0, terminando en 20, avanzando en 3"
   ]
  },
  {
   "cell_type": "code",
   "execution_count": 27,
   "id": "26bc2057",
   "metadata": {},
   "outputs": [
    {
     "data": {
      "text/plain": [
       "array([1.  , 1.25, 1.5 , 1.75, 2.  ])"
      ]
     },
     "execution_count": 27,
     "metadata": {},
     "output_type": "execute_result"
    }
   ],
   "source": [
    "np.linspace(1, 2, 5) #Crea una matriz de cinco valores espaciados uniformemente entre 1 y 2"
   ]
  },
  {
   "cell_type": "code",
   "execution_count": 29,
   "id": "2e50de3f",
   "metadata": {},
   "outputs": [
    {
     "data": {
      "text/plain": [
       "array([[0.87101548, 0.54317693, 0.80432988],\n",
       "       [0.58836172, 0.90803073, 0.32336906],\n",
       "       [0.63174786, 0.73365409, 0.30928282]])"
      ]
     },
     "execution_count": 29,
     "metadata": {},
     "output_type": "execute_result"
    }
   ],
   "source": [
    "np.random.random((3, 3)) #Cree una matriz de 3x3 distribuida uniformemente. Valores aleatorios entre 0 y 1"
   ]
  },
  {
   "cell_type": "code",
   "execution_count": 31,
   "id": "3b3e9d16",
   "metadata": {},
   "outputs": [
    {
     "data": {
      "text/plain": [
       "array([[ 1.29692445, -1.28410933,  0.78533342],\n",
       "       [-0.33856446,  0.91093053, -0.11118452],\n",
       "       [ 0.3374602 ,  0.39556124, -0.1317652 ]])"
      ]
     },
     "execution_count": 31,
     "metadata": {},
     "output_type": "execute_result"
    }
   ],
   "source": [
    "np.random.normal(0, 1, (3, 3)) #Cree una matriz de 3x3 de valores aleatorios distribuidos normalmente. \n",
    "#con media 0 y desviación estándar 1"
   ]
  },
  {
   "cell_type": "code",
   "execution_count": 33,
   "id": "75b3357e",
   "metadata": {},
   "outputs": [
    {
     "data": {
      "text/plain": [
       "array([[5, 6, 5],\n",
       "       [4, 5, 1],\n",
       "       [1, 6, 1]])"
      ]
     },
     "execution_count": 33,
     "metadata": {},
     "output_type": "execute_result"
    }
   ],
   "source": [
    "np.random.randint(0, 10, (3, 3)) #Crea una matriz de 3x3 de enteros aleatorios en el intervalo [0, 10)"
   ]
  },
  {
   "cell_type": "code",
   "execution_count": 36,
   "id": "9fd57abc",
   "metadata": {},
   "outputs": [
    {
     "data": {
      "text/plain": [
       "array([[1., 0., 0., 0., 0.],\n",
       "       [0., 1., 0., 0., 0.],\n",
       "       [0., 0., 1., 0., 0.],\n",
       "       [0., 0., 0., 1., 0.],\n",
       "       [0., 0., 0., 0., 1.]])"
      ]
     },
     "execution_count": 36,
     "metadata": {},
     "output_type": "execute_result"
    }
   ],
   "source": [
    "np.eye(5) #Crea una matriz de identidad de 5x5"
   ]
  },
  {
   "cell_type": "markdown",
   "id": "86ada95b",
   "metadata": {},
   "source": [
    "Tenga en cuenta que al construir una matriz, puede especificarlos usando una cadena"
   ]
  },
  {
   "cell_type": "code",
   "execution_count": 37,
   "id": "5030a677",
   "metadata": {},
   "outputs": [
    {
     "data": {
      "text/plain": [
       "array([[1, 0, 0, 0, 0],\n",
       "       [0, 1, 0, 0, 0],\n",
       "       [0, 0, 1, 0, 0],\n",
       "       [0, 0, 0, 1, 0],\n",
       "       [0, 0, 0, 0, 1]], dtype=int16)"
      ]
     },
     "execution_count": 37,
     "metadata": {},
     "output_type": "execute_result"
    }
   ],
   "source": [
    "np.eye(5, dtype='int16')"
   ]
  },
  {
   "cell_type": "markdown",
   "id": "5b30f12d",
   "metadata": {},
   "source": [
    "# <a style=\"color:blue;\"> <b> Los conceptos básicos de las matrices NumPy </b> </a>\n",
    "\n",
    "Cubriremos algunas categorías de manipulaciones básicas de matrices aquí:\n",
    "\n",
    "* <a style=\"color:black;\"> <b> Atributos de las matrices:</b> </a>  Determinar el tamaño, la forma, el consumo de memoria y los tipos de datos de las matrices.\n",
    "\n",
    "* <a style=\"color:black;\"> <b> Indexación de matrices:</b> </a> Obtener y establecer el valor de elementos de matriz individuales\n",
    "\n",
    "* <a style=\"color:black;\"> <b> Rebanado de matrices:</b> </a> Obtener y configurar subarreglos más pequeños dentro de un arreglo más grande\n",
    "\n",
    "* <a style=\"color:black;\"> <b> Remodelación de matrices: </b> </a>  Cambiar la forma de una matriz determinada\n",
    "\n",
    "* <a style=\"color:black;\"> <b> Unión y división de matrices: </b> </a>  Combinar varias matrices en una y dividir una matriz en muchas\n",
    "\n",
    "# <a style=\"color:red;\"> <b>Atributos de las matrices: </b> </a>\n",
    "\n",
    "Usaremos el generador de números aleatorios de NumPy, que sembraremos con un valor establecido para garantizar que se generen las mismas matrices aleatorias cada vez que se ejecute este código:"
   ]
  },
  {
   "cell_type": "code",
   "execution_count": 49,
   "id": "ac084b62",
   "metadata": {},
   "outputs": [
    {
     "name": "stdout",
     "output_type": "stream",
     "text": [
      "Matriz unidimensional\n",
      " \n",
      "[5 0 3 3 7 9]\n",
      "\n",
      " Matriz bidimensional\n",
      " \n",
      "[[3 5 2 4]\n",
      " [7 6 8 8]\n",
      " [1 6 7 7]]\n",
      "\n",
      " Matriz tridimensional \n",
      "\n",
      "[[[8 1 5 9 8]\n",
      "  [9 4 3 0 3]\n",
      "  [5 0 2 3 8]\n",
      "  [1 3 3 3 7]]\n",
      "\n",
      " [[0 1 9 9 0]\n",
      "  [4 7 3 2 7]\n",
      "  [2 0 0 4 5]\n",
      "  [5 6 8 4 1]]\n",
      "\n",
      " [[4 9 8 1 1]\n",
      "  [7 9 9 3 6]\n",
      "  [7 2 0 3 5]\n",
      "  [9 4 4 6 4]]]\n"
     ]
    }
   ],
   "source": [
    "import numpy as np\n",
    "np.random.seed(0)  # seed for reproducibility\n",
    "x1 = np.random.randint(10, size=6)  # One-dimensional array\n",
    "print(\"Matriz unidimensional\\n \")\n",
    "print(x1)\n",
    "x2 = np.random.randint(10, size=(3, 4))  # Two-dimensional array\n",
    "print(\"\\n Matriz bidimensional\\n \")\n",
    "print(x2)\n",
    "x3 = np.random.randint(10, size=(3, 4, 5))  # Three-dimensional array\n",
    "print(\"\\n Matriz tridimensional \\n\")\n",
    "print(x3)"
   ]
  },
  {
   "cell_type": "markdown",
   "id": "2ceaf210",
   "metadata": {},
   "source": [
    "Cada matriz tiene atributos  <a style=\"color:red;\"> <b> ndim </b> </a> (el número de dimensiones), <a style=\"color:red;\"> <b> shape </b> </a>(el tamaño de cada dimensión) y <a style=\"color:red;\"> <b> size </b> </a> (el tamaño total de la matriz):"
   ]
  },
  {
   "cell_type": "code",
   "execution_count": 53,
   "id": "55916b62",
   "metadata": {},
   "outputs": [
    {
     "name": "stdout",
     "output_type": "stream",
     "text": [
      "x1 ndim:  1\n",
      "x1 shape: (6,)\n",
      "x1 size:  6\n"
     ]
    }
   ],
   "source": [
    "print(\"x1 ndim: \", x1.ndim)\n",
    "print(\"x1 shape:\", x1.shape)\n",
    "print(\"x1 size: \", x1.size)"
   ]
  },
  {
   "cell_type": "code",
   "execution_count": 52,
   "id": "69f7747a",
   "metadata": {},
   "outputs": [
    {
     "name": "stdout",
     "output_type": "stream",
     "text": [
      "x2 ndim:  2\n",
      "x2 shape: (3, 4)\n",
      "x2 size:  12\n"
     ]
    }
   ],
   "source": [
    "print(\"x2 ndim: \", x2.ndim)\n",
    "print(\"x2 shape:\", x2.shape)\n",
    "print(\"x2 size: \", x2.size)"
   ]
  },
  {
   "cell_type": "code",
   "execution_count": 51,
   "id": "5ad11e4e",
   "metadata": {},
   "outputs": [
    {
     "name": "stdout",
     "output_type": "stream",
     "text": [
      "x3 ndim:  3\n",
      "x3 shape: (3, 4, 5)\n",
      "x3 size:  60\n"
     ]
    }
   ],
   "source": [
    "print(\"x3 ndim: \", x3.ndim)\n",
    "print(\"x3 shape:\", x3.shape)\n",
    "print(\"x3 size: \", x3.size)"
   ]
  },
  {
   "cell_type": "markdown",
   "id": "3cb19663",
   "metadata": {},
   "source": [
    "Otro atributo útil es el <a style=\"color:red;\"> <b> dtype </b> </a> tipo de datos de la matriz"
   ]
  },
  {
   "cell_type": "code",
   "execution_count": 54,
   "id": "f1ea3b00",
   "metadata": {},
   "outputs": [
    {
     "name": "stdout",
     "output_type": "stream",
     "text": [
      "dtype: int32\n"
     ]
    }
   ],
   "source": [
    "print(\"dtype:\", x3.dtype)"
   ]
  },
  {
   "cell_type": "markdown",
   "id": "19d8399b",
   "metadata": {},
   "source": [
    "# <a style=\"color:red;\"> <b> Indexación de matrices: acceso a elementos individuales: </b> </a> \n",
    "En una <a style=\"color:black;\"> <b> matriz unidimensional </b> </a>, puede acceder al <a style=\"color:black;\"> <b> i -ésimo </b> </a> valor (contando desde cero) especificando el índice deseado entre corchetes, tal como con las listas de Python:"
   ]
  },
  {
   "cell_type": "code",
   "execution_count": 55,
   "id": "37f1e71f",
   "metadata": {},
   "outputs": [
    {
     "data": {
      "text/plain": [
       "array([5, 0, 3, 3, 7, 9])"
      ]
     },
     "execution_count": 55,
     "metadata": {},
     "output_type": "execute_result"
    }
   ],
   "source": [
    "x1"
   ]
  },
  {
   "cell_type": "code",
   "execution_count": 56,
   "id": "fe9fa2d9",
   "metadata": {},
   "outputs": [
    {
     "data": {
      "text/plain": [
       "5"
      ]
     },
     "execution_count": 56,
     "metadata": {},
     "output_type": "execute_result"
    }
   ],
   "source": [
    "x1[0]"
   ]
  },
  {
   "cell_type": "code",
   "execution_count": 59,
   "id": "b88da372",
   "metadata": {},
   "outputs": [
    {
     "data": {
      "text/plain": [
       "3"
      ]
     },
     "execution_count": 59,
     "metadata": {},
     "output_type": "execute_result"
    }
   ],
   "source": [
    "x1[2]"
   ]
  },
  {
   "cell_type": "markdown",
   "id": "0f8686c0",
   "metadata": {},
   "source": [
    "Para indexar desde el final de la matriz, puede utilizar índices negativos:"
   ]
  },
  {
   "cell_type": "code",
   "execution_count": 60,
   "id": "eced4476",
   "metadata": {},
   "outputs": [
    {
     "data": {
      "text/plain": [
       "9"
      ]
     },
     "execution_count": 60,
     "metadata": {},
     "output_type": "execute_result"
    }
   ],
   "source": [
    "x1[-1]"
   ]
  },
  {
   "cell_type": "code",
   "execution_count": 61,
   "id": "3f2e7e17",
   "metadata": {},
   "outputs": [
    {
     "data": {
      "text/plain": [
       "7"
      ]
     },
     "execution_count": 61,
     "metadata": {},
     "output_type": "execute_result"
    }
   ],
   "source": [
    "x1[-2]"
   ]
  },
  {
   "cell_type": "markdown",
   "id": "cd9fc047",
   "metadata": {},
   "source": [
    "En una <a style=\"color:black;\"> <b> matriz multidimensional </b> </a>, se accede a los elementos mediante una tupla de índices separados por comas :"
   ]
  },
  {
   "cell_type": "code",
   "execution_count": 62,
   "id": "0c63762c",
   "metadata": {},
   "outputs": [
    {
     "data": {
      "text/plain": [
       "array([[3, 5, 2, 4],\n",
       "       [7, 6, 8, 8],\n",
       "       [1, 6, 7, 7]])"
      ]
     },
     "execution_count": 62,
     "metadata": {},
     "output_type": "execute_result"
    }
   ],
   "source": [
    "x2"
   ]
  },
  {
   "cell_type": "code",
   "execution_count": 68,
   "id": "2b87c43a",
   "metadata": {},
   "outputs": [
    {
     "data": {
      "text/plain": [
       "3"
      ]
     },
     "execution_count": 68,
     "metadata": {},
     "output_type": "execute_result"
    }
   ],
   "source": [
    "x2[0, 0]"
   ]
  },
  {
   "cell_type": "code",
   "execution_count": 69,
   "id": "940922ff",
   "metadata": {},
   "outputs": [
    {
     "data": {
      "text/plain": [
       "5"
      ]
     },
     "execution_count": 69,
     "metadata": {},
     "output_type": "execute_result"
    }
   ],
   "source": [
    "x2[0, 1]"
   ]
  },
  {
   "cell_type": "code",
   "execution_count": 71,
   "id": "3cd08613",
   "metadata": {},
   "outputs": [
    {
     "data": {
      "text/plain": [
       "4"
      ]
     },
     "execution_count": 71,
     "metadata": {},
     "output_type": "execute_result"
    }
   ],
   "source": [
    "x2[0, -1]"
   ]
  },
  {
   "cell_type": "markdown",
   "id": "cee5d923",
   "metadata": {},
   "source": [
    "También puede modificar valores utilizando cualquiera de las notaciones de índice anteriores:"
   ]
  },
  {
   "cell_type": "code",
   "execution_count": 73,
   "id": "f5e0a73b",
   "metadata": {},
   "outputs": [
    {
     "data": {
      "text/plain": [
       "array([[ 3,  5,  2,  4],\n",
       "       [ 7,  6,  8,  8],\n",
       "       [ 1,  6,  7, 15]])"
      ]
     },
     "execution_count": 73,
     "metadata": {},
     "output_type": "execute_result"
    }
   ],
   "source": [
    "x2[2, -1] = 15\n",
    "x2"
   ]
  },
  {
   "cell_type": "markdown",
   "id": "e2f027ea",
   "metadata": {},
   "source": [
    "Tenga en cuenta que, a diferencia de las listas de Python, las <a style=\"color:black;\"> <b> matrices NumPy tienen un tipo fijo. </b> </a> Esto significa, por ejemplo, que si intenta insertar un valor de punto flotante en una matriz de enteros, el valor se truncará silenciosamente. ¡No se deje sorprender por este comportamiento!"
   ]
  },
  {
   "cell_type": "code",
   "execution_count": 74,
   "id": "19825eef",
   "metadata": {},
   "outputs": [
    {
     "data": {
      "text/plain": [
       "array([5, 0, 3, 3, 7, 9])"
      ]
     },
     "execution_count": 74,
     "metadata": {},
     "output_type": "execute_result"
    }
   ],
   "source": [
    "x1"
   ]
  },
  {
   "cell_type": "code",
   "execution_count": 75,
   "id": "619805df",
   "metadata": {},
   "outputs": [
    {
     "data": {
      "text/plain": [
       "5"
      ]
     },
     "execution_count": 75,
     "metadata": {},
     "output_type": "execute_result"
    }
   ],
   "source": [
    "x1[0]"
   ]
  },
  {
   "cell_type": "code",
   "execution_count": 77,
   "id": "840e6b95",
   "metadata": {},
   "outputs": [
    {
     "data": {
      "text/plain": [
       "array([3, 0, 3, 3, 7, 9])"
      ]
     },
     "execution_count": 77,
     "metadata": {},
     "output_type": "execute_result"
    }
   ],
   "source": [
    "x1[0]=3.14161 #¡Esto será truncado!, ya que esta en una matriz de enteros\n",
    "x1"
   ]
  },
  {
   "cell_type": "markdown",
   "id": "0c493247",
   "metadata": {},
   "source": [
    "# <a style=\"color:red;\"> <b> División de matrices: acceso a submatrices </b> </a> \n",
    "\n",
    "Justo como podemos usar corchetes para acceder a elementos de matriz individuales, también podemos usarlos para acceder a submatrices con la notación de corte , marcada por elcarácter de dos puntos <a style=\"color:black;\"> <b> (:) </b> </a>.\n",
    "\n",
    "x[start:stop:step]\n",
    "\n",
    "Si alguno de estos no está especificado, su valor predeterminado es start=0, , . "
   ]
  },
  {
   "cell_type": "code",
   "execution_count": 78,
   "id": "4f434d99",
   "metadata": {},
   "outputs": [
    {
     "data": {
      "text/plain": [
       "array([0, 1, 2, 3, 4, 5, 6, 7, 8, 9])"
      ]
     },
     "execution_count": 78,
     "metadata": {},
     "output_type": "execute_result"
    }
   ],
   "source": [
    "x = np.arange(10)\n",
    "x"
   ]
  },
  {
   "cell_type": "code",
   "execution_count": 80,
   "id": "1863e083",
   "metadata": {},
   "outputs": [
    {
     "data": {
      "text/plain": [
       "array([0, 1, 2, 3, 4, 5])"
      ]
     },
     "execution_count": 80,
     "metadata": {},
     "output_type": "execute_result"
    }
   ],
   "source": [
    "x[:6] #primeros 6 elementos"
   ]
  },
  {
   "cell_type": "code",
   "execution_count": 83,
   "id": "12ad8ad0",
   "metadata": {},
   "outputs": [
    {
     "data": {
      "text/plain": [
       "array([3, 4, 5, 6, 7, 8, 9])"
      ]
     },
     "execution_count": 83,
     "metadata": {},
     "output_type": "execute_result"
    }
   ],
   "source": [
    "x[3:] #elementos después del índice 3"
   ]
  },
  {
   "cell_type": "code",
   "execution_count": 84,
   "id": "4178fe2d",
   "metadata": {},
   "outputs": [
    {
     "data": {
      "text/plain": [
       "array([4, 5, 6, 7])"
      ]
     },
     "execution_count": 84,
     "metadata": {},
     "output_type": "execute_result"
    }
   ],
   "source": [
    "x[4:8] #elementos después del índice 4 y antes del índice 8"
   ]
  },
  {
   "cell_type": "code",
   "execution_count": 85,
   "id": "8a6cc0aa",
   "metadata": {},
   "outputs": [
    {
     "data": {
      "text/plain": [
       "array([0, 3, 6, 9])"
      ]
     },
     "execution_count": 85,
     "metadata": {},
     "output_type": "execute_result"
    }
   ],
   "source": [
    "x[::3] #Cada 3er elemento empezando desde 0"
   ]
  },
  {
   "cell_type": "code",
   "execution_count": 86,
   "id": "00f37997",
   "metadata": {},
   "outputs": [
    {
     "data": {
      "text/plain": [
       "array([1, 3, 5, 7, 9])"
      ]
     },
     "execution_count": 86,
     "metadata": {},
     "output_type": "execute_result"
    }
   ],
   "source": [
    "x[1::2] #CDada 2do elemento empezando desde 1"
   ]
  },
  {
   "cell_type": "markdown",
   "id": "0d851154",
   "metadata": {},
   "source": [
    "Un caso potencialmente confuso es cuando el valor <a style=\"color:black;\"> <b>  step es negativo. </b> </a> En este caso, se intercambian los valores predeterminados de start y stop. Esta se convierte en una forma conveniente de invertir una matriz:"
   ]
  },
  {
   "cell_type": "code",
   "execution_count": 87,
   "id": "004443c2",
   "metadata": {},
   "outputs": [
    {
     "data": {
      "text/plain": [
       "array([9, 8, 7, 6, 5, 4, 3, 2, 1, 0])"
      ]
     },
     "execution_count": 87,
     "metadata": {},
     "output_type": "execute_result"
    }
   ],
   "source": [
    "x[::-1]"
   ]
  },
  {
   "cell_type": "code",
   "execution_count": 89,
   "id": "b14e2e9b",
   "metadata": {},
   "outputs": [
    {
     "data": {
      "text/plain": [
       "array([5, 3, 1])"
      ]
     },
     "execution_count": 89,
     "metadata": {},
     "output_type": "execute_result"
    }
   ],
   "source": [
    "x[5::-2]"
   ]
  }
 ],
 "metadata": {
  "kernelspec": {
   "display_name": "Python 3 (ipykernel)",
   "language": "python",
   "name": "python3"
  },
  "language_info": {
   "codemirror_mode": {
    "name": "ipython",
    "version": 3
   },
   "file_extension": ".py",
   "mimetype": "text/x-python",
   "name": "python",
   "nbconvert_exporter": "python",
   "pygments_lexer": "ipython3",
   "version": "3.11.4"
  }
 },
 "nbformat": 4,
 "nbformat_minor": 5
}
